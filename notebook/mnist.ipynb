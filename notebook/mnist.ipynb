{
 "cells": [
  {
   "cell_type": "code",
   "execution_count": null,
   "id": "af1ca4ea-68c4-48df-97ac-24d165cf0f3e",
   "metadata": {},
   "outputs": [],
   "source": []
  },
  {
   "cell_type": "markdown",
   "id": "9bcf19e5-5299-45e6-9d52-2920a2677f11",
   "metadata": {},
   "source": [
    "复制"
   ]
  },
  {
   "cell_type": "code",
   "execution_count": null,
   "id": "44e45c72-6eb8-40e3-90f9-3d134d0f43fb",
   "metadata": {},
   "outputs": [
    {
     "name": "stderr",
     "output_type": "stream",
     "text": [
      "INFO:root:Using MoXing-v2.1.0.5d9c87c8-5d9c87c8\n",
      "INFO:root:Using OBS-Python-SDK-3.20.9.1\n"
     ]
    }
   ],
   "source": [
    "import moxing as mox\n",
    " \n",
    "mox.file.copy_parallel('obs://modelsarts-eric/MNIST_Data/', '/home/ma-user/work')"
   ]
  },
  {
   "cell_type": "markdown",
   "id": "e3736b57-42d7-4d63-a97f-ed4bfc203a9b",
   "metadata": {},
   "source": [
    "训练部分"
   ]
  },
  {
   "cell_type": "code",
   "execution_count": 3,
   "id": "11b87bfb-aad8-499c-9b6e-9d07f1abe4f3",
   "metadata": {},
   "outputs": [
    {
     "name": "stdout",
     "output_type": "stream",
     "text": [
      "rm: invalid option -- 'a'\n",
      "Try 'rm --help' for more information.\n"
     ]
    }
   ],
   "source": [
    "! rm -rf  checkpoint"
   ]
  },
  {
   "cell_type": "code",
   "execution_count": 1,
   "id": "4aaeffb6-b483-47a3-8cc0-103c5cb18429",
   "metadata": {},
   "outputs": [
    {
     "name": "stdout",
     "output_type": "stream",
     "text": [
      "epoch: 1 step: 234, loss is 2.2831099033355713\n",
      "epoch: 2 step: 234, loss is 2.2322285175323486\n",
      "epoch: 3 step: 234, loss is 2.0499825477600098\n",
      "epoch: 4 step: 234, loss is 1.59486985206604\n",
      "epoch: 5 step: 234, loss is 0.989464521408081\n",
      "epoch: 6 step: 234, loss is 0.7650231719017029\n",
      "epoch: 7 step: 234, loss is 0.6758593320846558\n",
      "epoch: 8 step: 234, loss is 0.504134476184845\n",
      "epoch: 9 step: 234, loss is 0.4700089991092682\n",
      "epoch: 10 step: 234, loss is 0.470613569021225\n",
      "epoch: 11 step: 234, loss is 0.3997555673122406\n",
      "epoch: 12 step: 234, loss is 0.4933946132659912\n",
      "epoch: 13 step: 234, loss is 0.45921000838279724\n",
      "epoch: 14 step: 234, loss is 0.31594592332839966\n",
      "epoch: 15 step: 234, loss is 0.36113864183425903\n",
      "epoch: 16 step: 234, loss is 0.2970486283302307\n",
      "epoch: 17 step: 234, loss is 0.2787116467952728\n",
      "epoch: 18 step: 234, loss is 0.2598998546600342\n",
      "epoch: 19 step: 234, loss is 0.3289353549480438\n",
      "epoch: 20 step: 234, loss is 0.3706319034099579\n",
      "epoch: 21 step: 234, loss is 0.3229807913303375\n",
      "epoch: 22 step: 234, loss is 0.327623188495636\n",
      "epoch: 23 step: 234, loss is 0.23774300515651703\n",
      "epoch: 24 step: 234, loss is 0.2996813654899597\n",
      "epoch: 25 step: 234, loss is 0.27686503529548645\n",
      "epoch: 26 step: 234, loss is 0.2784397602081299\n",
      "epoch: 27 step: 234, loss is 0.2604394257068634\n",
      "epoch: 28 step: 234, loss is 0.329397052526474\n",
      "epoch: 29 step: 234, loss is 0.29257574677467346\n",
      "epoch: 30 step: 234, loss is 0.22710058093070984\n",
      "epoch: 31 step: 234, loss is 0.28001245856285095\n",
      "epoch: 32 step: 234, loss is 0.24117664992809296\n",
      "epoch: 33 step: 234, loss is 0.31989118456840515\n",
      "epoch: 34 step: 234, loss is 0.2035897970199585\n",
      "epoch: 35 step: 234, loss is 0.20052479207515717\n",
      "epoch: 36 step: 234, loss is 0.19161885976791382\n",
      "epoch: 37 step: 234, loss is 0.28276723623275757\n",
      "epoch: 38 step: 234, loss is 0.1494554877281189\n",
      "epoch: 39 step: 234, loss is 0.21060995757579803\n",
      "epoch: 40 step: 234, loss is 0.23639188706874847\n",
      "epoch: 41 step: 234, loss is 0.24530509114265442\n",
      "epoch: 42 step: 234, loss is 0.23542854189872742\n",
      "epoch: 43 step: 234, loss is 0.2445790022611618\n",
      "epoch: 44 step: 234, loss is 0.23145797848701477\n",
      "epoch: 45 step: 234, loss is 0.23655129969120026\n",
      "epoch: 46 step: 234, loss is 0.16126860678195953\n",
      "epoch: 47 step: 234, loss is 0.25215262174606323\n",
      "epoch: 48 step: 234, loss is 0.2007053792476654\n",
      "epoch: 49 step: 234, loss is 0.11730790883302689\n",
      "epoch: 50 step: 234, loss is 0.1742302030324936\n",
      "epoch: 51 step: 234, loss is 0.15043072402477264\n",
      "epoch: 52 step: 234, loss is 0.2226649969816208\n",
      "epoch: 53 step: 234, loss is 0.24297423660755157\n",
      "epoch: 54 step: 234, loss is 0.19509349763393402\n",
      "epoch: 55 step: 234, loss is 0.21718229353427887\n",
      "epoch: 56 step: 234, loss is 0.16543029248714447\n",
      "epoch: 57 step: 234, loss is 0.1603091061115265\n",
      "epoch: 58 step: 234, loss is 0.16216903924942017\n",
      "epoch: 59 step: 234, loss is 0.18540436029434204\n",
      "epoch: 60 step: 234, loss is 0.17234918475151062\n",
      "epoch: 61 step: 234, loss is 0.12457960844039917\n",
      "epoch: 62 step: 234, loss is 0.15934106707572937\n",
      "epoch: 63 step: 234, loss is 0.1912878155708313\n",
      "epoch: 64 step: 234, loss is 0.16755980253219604\n",
      "epoch: 65 step: 234, loss is 0.1769469976425171\n",
      "epoch: 66 step: 234, loss is 0.11285172402858734\n",
      "epoch: 67 step: 234, loss is 0.15744903683662415\n",
      "epoch: 68 step: 234, loss is 0.14518584311008453\n",
      "epoch: 69 step: 234, loss is 0.1439894139766693\n",
      "epoch: 70 step: 234, loss is 0.10725171118974686\n",
      "epoch: 71 step: 234, loss is 0.13811607658863068\n",
      "epoch: 72 step: 234, loss is 0.11423719674348831\n",
      "epoch: 73 step: 234, loss is 0.14855392277240753\n",
      "epoch: 74 step: 234, loss is 0.11394359171390533\n",
      "epoch: 75 step: 234, loss is 0.17856000363826752\n",
      "epoch: 76 step: 234, loss is 0.12269937992095947\n",
      "epoch: 77 step: 234, loss is 0.06312950700521469\n",
      "epoch: 78 step: 234, loss is 0.13508132100105286\n",
      "epoch: 79 step: 234, loss is 0.12108869105577469\n",
      "epoch: 80 step: 234, loss is 0.13951563835144043\n",
      "epoch: 81 step: 234, loss is 0.1488618403673172\n",
      "epoch: 82 step: 234, loss is 0.1817895919084549\n",
      "epoch: 83 step: 234, loss is 0.07999106496572495\n",
      "epoch: 84 step: 234, loss is 0.11783415824174881\n",
      "epoch: 85 step: 234, loss is 0.11282093822956085\n",
      "epoch: 86 step: 234, loss is 0.09411100298166275\n",
      "epoch: 87 step: 234, loss is 0.12538130581378937\n",
      "epoch: 88 step: 234, loss is 0.08619733154773712\n",
      "epoch: 89 step: 234, loss is 0.11974554508924484\n",
      "epoch: 90 step: 234, loss is 0.08680440485477448\n",
      "epoch: 91 step: 234, loss is 0.05445859581232071\n",
      "epoch: 92 step: 234, loss is 0.16554638743400574\n",
      "epoch: 93 step: 234, loss is 0.06677502393722534\n",
      "epoch: 94 step: 234, loss is 0.1507103145122528\n",
      "epoch: 95 step: 234, loss is 0.06732966005802155\n",
      "epoch: 96 step: 234, loss is 0.08190885931253433\n",
      "epoch: 97 step: 234, loss is 0.11193384975194931\n",
      "epoch: 98 step: 234, loss is 0.06357114762067795\n",
      "epoch: 99 step: 234, loss is 0.07035116851329803\n",
      "epoch: 100 step: 234, loss is 0.1402330845594406\n",
      "Metrics: {'acc': 0.9673477564102564, 'loss': 0.11064729361962049}\n"
     ]
    }
   ],
   "source": [
    "import mindspore as ms\n",
    "from mindspore import nn, context, Model, load_checkpoint, load_param_into_net\n",
    "import mindspore.dataset.vision.c_transforms as CV\n",
    "import mindspore.dataset.transforms.c_transforms as C\n",
    "from mindspore.train.callback import LossMonitor, ModelCheckpoint, CheckpointConfig\n",
    "from mindspore.common.initializer import initializer, Normal\n",
    "import matplotlib.pyplot as plt\n",
    "import matplotlib\n",
    "import os\n",
    "import numpy as np\n",
    "\n",
    "context.set_context(mode=context.GRAPH_MODE, device_target='GPU')\n",
    "\n",
    "def visualize(dataset):\n",
    "    figure = plt.figure(figsize=(4, 4))\n",
    "    cols, rows = 3, 3\n",
    "\n",
    "    for idx, (image, label) in enumerate(dataset.create_tuple_iterator()):\n",
    "        figure.add_subplot(rows, cols, idx + 1)\n",
    "        plt.title(int(label))\n",
    "        plt.axis(\"off\")\n",
    "        plt.imshow(image.asnumpy().squeeze(), cmap=\"gray\")\n",
    "        if idx == cols * rows - 1:\n",
    "            break\n",
    "    plt.show()\n",
    "\n",
    "\n",
    "def MnistDataset(data_dir, batch_size=256, resize=(28, 28),\n",
    "                 rescale=1 / (255 * 0.3081), shift=-0.1307 / 0.3081, buffer_size=64):\n",
    "    ds = ms.dataset.MnistDataset(data_dir)\n",
    "    ds = ds.map(input_columns=[\"image\"], operations=[CV.Resize(resize), CV.Rescale(rescale, shift), CV.HWC2CHW()])\n",
    "    ds = ds.map(input_columns=[\"label\"], operations=C.TypeCast(ms.int32))\n",
    "    ds = ds.shuffle(buffer_size=buffer_size).batch(batch_size, drop_remainder=True)\n",
    "    return ds\n",
    "\n",
    "\n",
    "class Network(nn.Cell):\n",
    "    def __init__(self):\n",
    "        super().__init__()\n",
    "        self.flatten = nn.Flatten()\n",
    "        self.dense_relu_sequential = nn.SequentialCell(\n",
    "            nn.Dense(28 * 28, 512),\n",
    "            nn.ReLU(),\n",
    "            nn.Dense(512, 512),\n",
    "            nn.ReLU(),\n",
    "            nn.Dense(512, 10)\n",
    "        )\n",
    "\n",
    "    def construct(self, x):\n",
    "        x = self.flatten(x)\n",
    "        logits = self.dense_relu_sequential(x)\n",
    "        return logits\n",
    "\n",
    "\n",
    "num_epochs, lr = 100, 5e-3\n",
    "\n",
    "data_train = MnistDataset(\"./MNIST_Data/train\")\n",
    "data_test = MnistDataset(\"./MNIST_Data/test\")\n",
    "net = Network()\n",
    "\n",
    "\n",
    "loss = nn.loss.SoftmaxCrossEntropyWithLogits(sparse=True, reduction='mean')\n",
    "opt = nn.SGD(net.trainable_params(), lr)\n",
    "loss_cb = LossMonitor(per_print_times=data_train.get_dataset_size())\n",
    "\n",
    "model = Model(net, loss, opt, metrics={'acc', 'loss'})\n",
    "\n",
    "model_path = \"./checkpoint/\"\n",
    "config_ck = CheckpointConfig(save_checkpoint_steps=data_train.get_dataset_size(), keep_checkpoint_max=100)\n",
    "ckpoint_cb = ModelCheckpoint(prefix=\"checkpoint_net\", directory=model_path, config=config_ck)\n",
    "\n",
    "model.train(num_epochs, data_train, callbacks=[loss_cb, ckpoint_cb], dataset_sink_mode=False)\n",
    "\n",
    "metrics = model.eval(data_test, dataset_sink_mode=False)\n",
    "print('Metrics:', metrics)\n"
   ]
  },
  {
   "cell_type": "markdown",
   "id": "46ebad88-1387-4d94-8a63-99623f4a82d4",
   "metadata": {},
   "source": [
    "预测"
   ]
  },
  {
   "cell_type": "code",
   "execution_count": 2,
   "id": "2dcee265-646f-4da3-9ff2-52605ea93fbe",
   "metadata": {},
   "outputs": [
    {
     "name": "stdout",
     "output_type": "stream",
     "text": [
      "Row 2, column 3 is incorrectly identified as 8, the correct value should be 2 \n",
      "\n"
     ]
    },
    {
     "ename": "ValueError",
     "evalue": "num must be 1 <= num <= 32, not 33",
     "output_type": "error",
     "traceback": [
      "\u001b[0;31m---------------------------------------------------------------------------\u001b[0m",
      "\u001b[0;31mValueError\u001b[0m                                Traceback (most recent call last)",
      "\u001b[0;32m/tmp/ipykernel_19225/383349612.py\u001b[0m in \u001b[0;36m<module>\u001b[0;34m\u001b[0m\n\u001b[1;32m     18\u001b[0m \u001b[0mindex\u001b[0m \u001b[0;34m=\u001b[0m \u001b[0;36m1\u001b[0m\u001b[0;34m\u001b[0m\u001b[0;34m\u001b[0m\u001b[0m\n\u001b[1;32m     19\u001b[0m \u001b[0;32mfor\u001b[0m \u001b[0mi\u001b[0m \u001b[0;32min\u001b[0m \u001b[0mrange\u001b[0m\u001b[0;34m(\u001b[0m\u001b[0mlen\u001b[0m\u001b[0;34m(\u001b[0m\u001b[0mlabels\u001b[0m\u001b[0;34m)\u001b[0m\u001b[0;34m)\u001b[0m\u001b[0;34m:\u001b[0m\u001b[0;34m\u001b[0m\u001b[0;34m\u001b[0m\u001b[0m\n\u001b[0;32m---> 20\u001b[0;31m     \u001b[0mplt\u001b[0m\u001b[0;34m.\u001b[0m\u001b[0msubplot\u001b[0m\u001b[0;34m(\u001b[0m\u001b[0;36m4\u001b[0m\u001b[0;34m,\u001b[0m \u001b[0;36m8\u001b[0m\u001b[0;34m,\u001b[0m \u001b[0mi\u001b[0m\u001b[0;34m+\u001b[0m\u001b[0;36m1\u001b[0m\u001b[0;34m)\u001b[0m\u001b[0;34m\u001b[0m\u001b[0;34m\u001b[0m\u001b[0m\n\u001b[0m\u001b[1;32m     21\u001b[0m     \u001b[0mcolor\u001b[0m \u001b[0;34m=\u001b[0m \u001b[0;34m'blue'\u001b[0m \u001b[0;32mif\u001b[0m \u001b[0mpred\u001b[0m\u001b[0;34m[\u001b[0m\u001b[0mi\u001b[0m\u001b[0;34m]\u001b[0m \u001b[0;34m==\u001b[0m \u001b[0mlabels\u001b[0m\u001b[0;34m[\u001b[0m\u001b[0mi\u001b[0m\u001b[0;34m]\u001b[0m \u001b[0;32melse\u001b[0m \u001b[0;34m'red'\u001b[0m\u001b[0;34m\u001b[0m\u001b[0;34m\u001b[0m\u001b[0m\n\u001b[1;32m     22\u001b[0m     \u001b[0mplt\u001b[0m\u001b[0;34m.\u001b[0m\u001b[0mtitle\u001b[0m\u001b[0;34m(\u001b[0m\u001b[0;34m\"pre:{}\"\u001b[0m\u001b[0;34m.\u001b[0m\u001b[0mformat\u001b[0m\u001b[0;34m(\u001b[0m\u001b[0mpred\u001b[0m\u001b[0;34m[\u001b[0m\u001b[0mi\u001b[0m\u001b[0;34m]\u001b[0m\u001b[0;34m)\u001b[0m\u001b[0;34m,\u001b[0m \u001b[0mcolor\u001b[0m\u001b[0;34m=\u001b[0m\u001b[0mcolor\u001b[0m\u001b[0;34m)\u001b[0m\u001b[0;34m\u001b[0m\u001b[0;34m\u001b[0m\u001b[0m\n",
      "\u001b[0;32m~/anaconda3/envs/MindSpore/lib/python3.7/site-packages/matplotlib/pyplot.py\u001b[0m in \u001b[0;36msubplot\u001b[0;34m(*args, **kwargs)\u001b[0m\n\u001b[1;32m   1266\u001b[0m \u001b[0;34m\u001b[0m\u001b[0m\n\u001b[1;32m   1267\u001b[0m     \u001b[0;31m# First, search for an existing subplot with a matching spec.\u001b[0m\u001b[0;34m\u001b[0m\u001b[0;34m\u001b[0m\u001b[0;34m\u001b[0m\u001b[0m\n\u001b[0;32m-> 1268\u001b[0;31m     \u001b[0mkey\u001b[0m \u001b[0;34m=\u001b[0m \u001b[0mSubplotSpec\u001b[0m\u001b[0;34m.\u001b[0m\u001b[0m_from_subplot_args\u001b[0m\u001b[0;34m(\u001b[0m\u001b[0mfig\u001b[0m\u001b[0;34m,\u001b[0m \u001b[0margs\u001b[0m\u001b[0;34m)\u001b[0m\u001b[0;34m\u001b[0m\u001b[0;34m\u001b[0m\u001b[0m\n\u001b[0m\u001b[1;32m   1269\u001b[0m \u001b[0;34m\u001b[0m\u001b[0m\n\u001b[1;32m   1270\u001b[0m     \u001b[0;32mfor\u001b[0m \u001b[0max\u001b[0m \u001b[0;32min\u001b[0m \u001b[0mfig\u001b[0m\u001b[0;34m.\u001b[0m\u001b[0maxes\u001b[0m\u001b[0;34m:\u001b[0m\u001b[0;34m\u001b[0m\u001b[0;34m\u001b[0m\u001b[0m\n",
      "\u001b[0;32m~/anaconda3/envs/MindSpore/lib/python3.7/site-packages/matplotlib/gridspec.py\u001b[0m in \u001b[0;36m_from_subplot_args\u001b[0;34m(figure, args)\u001b[0m\n\u001b[1;32m    607\u001b[0m             \u001b[0;32mif\u001b[0m \u001b[0;32mnot\u001b[0m \u001b[0misinstance\u001b[0m\u001b[0;34m(\u001b[0m\u001b[0mnum\u001b[0m\u001b[0;34m,\u001b[0m \u001b[0mIntegral\u001b[0m\u001b[0;34m)\u001b[0m \u001b[0;32mor\u001b[0m \u001b[0mnum\u001b[0m \u001b[0;34m<\u001b[0m \u001b[0;36m1\u001b[0m \u001b[0;32mor\u001b[0m \u001b[0mnum\u001b[0m \u001b[0;34m>\u001b[0m \u001b[0mrows\u001b[0m\u001b[0;34m*\u001b[0m\u001b[0mcols\u001b[0m\u001b[0;34m:\u001b[0m\u001b[0;34m\u001b[0m\u001b[0;34m\u001b[0m\u001b[0m\n\u001b[1;32m    608\u001b[0m                 raise ValueError(\n\u001b[0;32m--> 609\u001b[0;31m                     f\"num must be 1 <= num <= {rows*cols}, not {num!r}\")\n\u001b[0m\u001b[1;32m    610\u001b[0m             \u001b[0mi\u001b[0m \u001b[0;34m=\u001b[0m \u001b[0mj\u001b[0m \u001b[0;34m=\u001b[0m \u001b[0mnum\u001b[0m\u001b[0;34m\u001b[0m\u001b[0;34m\u001b[0m\u001b[0m\n\u001b[1;32m    611\u001b[0m         \u001b[0;32mreturn\u001b[0m \u001b[0mgs\u001b[0m\u001b[0;34m[\u001b[0m\u001b[0mi\u001b[0m\u001b[0;34m-\u001b[0m\u001b[0;36m1\u001b[0m\u001b[0;34m:\u001b[0m\u001b[0mj\u001b[0m\u001b[0;34m]\u001b[0m\u001b[0;34m\u001b[0m\u001b[0;34m\u001b[0m\u001b[0m\n",
      "\u001b[0;31mValueError\u001b[0m: num must be 1 <= num <= 32, not 33"
     ]
    },
    {
     "data": {
      "image/png": "[encoded data removed]",
      "text/plain": [
       "<Figure size 432x288 with 32 Axes>"
      ]
     },
     "metadata": {
      "needs_background": "light"
     },
     "output_type": "display_data"
    }
   ],
   "source": [
    "from mindspore import load_checkpoint, load_param_into_net\n",
    "from mindspore import Tensor\n",
    "\n",
    "ds_test = data_test.create_dict_iterator()\n",
    "data = next(ds_test)\n",
    "images = data[\"image\"].asnumpy()\n",
    "labels = data[\"label\"].asnumpy()\n",
    "\n",
    "param_dict = load_checkpoint(\"./checkpoint/checkpoint_net-98_234.ckpt\")\n",
    "net = Network()\n",
    "load_param_into_net(net, param_dict)\n",
    "model = Model(net, loss, opt, metrics={'acc', 'loss'})\n",
    "\n",
    "output = model.predict(Tensor(data['image']))\n",
    "\n",
    "pred = np.argmax(output.asnumpy(), axis=1)\n",
    "err_num = []\n",
    "index = 1\n",
    "for i in range(len(labels)):\n",
    "    plt.subplot(4, 8, i+1)\n",
    "    color = 'blue' if pred[i] == labels[i] else 'red'\n",
    "    plt.title(\"pre:{}\".format(pred[i]), color=color)\n",
    "    plt.imshow(np.squeeze(images[i]))\n",
    "    plt.axis(\"off\")\n",
    "    if color == 'red':\n",
    "        index = 0\n",
    "        print(\"Row {}, column {} is incorrectly identified as {}, the correct value should be {}\".format(int(i/8)+1, i%8+1, pred[i], labels[i]), '\\n')\n",
    "if index:\n",
    "    print(\"All the figures in this group are predicted correctly!\")\n",
    "print(pred, \"<--Predicted figures\")\n",
    "print(labels, \"<--The right number\")\n",
    "plt.show()\n"
   ]
  }
 ],
 "metadata": {
  "kernelspec": {
   "display_name": "MindSpore",
   "language": "python",
   "name": "mindspore"
  },
  "language_info": {
   "codemirror_mode": {
    "name": "ipython",
    "version": 3
   },
   "file_extension": ".py",
   "mimetype": "text/x-python",
   "name": "python",
   "nbconvert_exporter": "python",
   "pygments_lexer": "ipython3",
   "version": "3.7.10"
  }
 },
 "nbformat": 4,
 "nbformat_minor": 5
}
